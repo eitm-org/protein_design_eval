{
 "cells": [
  {
   "cell_type": "code",
   "execution_count": 1,
   "metadata": {},
   "outputs": [],
   "source": [
    "from protein_design_eval.pipeline.standard.unconditional import UnconditionalPipeline\n",
    "import os"
   ]
  },
  {
   "cell_type": "code",
   "execution_count": 3,
   "metadata": {},
   "outputs": [
    {
     "name": "stderr",
     "output_type": "stream",
     "text": [
      "Computing scores: 100%|██████████| 2/2 [00:00<00:00, 43.30it/s]\n",
      "Computing generated secondary diversity: 100%|██████████| 2/2 [00:00<00:00, 145.60it/s]\n",
      "Computing designed secondary diversity: 100%|██████████| 2/2 [00:00<00:00, 89.52it/s]\n"
     ]
    }
   ],
   "source": [
    "os.system('rm -rf /home/xchen/projects/protein_design_eval/eval/standard/*')\n",
    "\n",
    "# pdbs_dir = '../workflow1_inputs/proteinmpnn_inputs/pdbs/'\n",
    "pdbs_dir =  '/home/xchen/projects/protein_design_eval/examples/unconditional/pdbs/'\n",
    "structures_dir = '/home/xchen/projects/protein_design_eval/examples/unconditional/designs/'\n",
    "# structures_dir = '/home/xchen/projects/salt/workflow1_inputs/rfdiffusion_inputs/'\n",
    "\n",
    "output_dir = '/home/xchen/projects/protein_design_eval/eval/standard/'\n",
    "unconditional_pipline = UnconditionalPipeline(\n",
    "    tm_score_exec ='packages/TMscore/TMscore',\n",
    "    tm_align_exec = 'packages/TMscore/TMalign'\n",
    ")\n",
    "unconditional_pipline.evaluate_af2(output_dir=output_dir, pdbs_dir=pdbs_dir, structures_dir=structures_dir,\n",
    ")"
   ]
  },
  {
   "cell_type": "code",
   "execution_count": null,
   "metadata": {},
   "outputs": [],
   "source": []
  }
 ],
 "metadata": {
  "kernelspec": {
   "display_name": "salt_env",
   "language": "python",
   "name": "python3"
  },
  "language_info": {
   "codemirror_mode": {
    "name": "ipython",
    "version": 3
   },
   "file_extension": ".py",
   "mimetype": "text/x-python",
   "name": "python",
   "nbconvert_exporter": "python",
   "pygments_lexer": "ipython3",
   "version": "3.10.14"
  }
 },
 "nbformat": 4,
 "nbformat_minor": 2
}
